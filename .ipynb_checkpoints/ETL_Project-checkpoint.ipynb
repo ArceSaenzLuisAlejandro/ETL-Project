{
 "cells": [
  {
   "cell_type": "markdown",
   "metadata": {},
   "source": [
    "# ETL Project"
   ]
  },
  {
   "cell_type": "markdown",
   "metadata": {},
   "source": [
    "## Dependencies"
   ]
  },
  {
   "cell_type": "code",
   "execution_count": 1,
   "metadata": {},
   "outputs": [],
   "source": [
    "import pandas as pd\n",
    "import datetime\n",
    "import requests\n",
    "from sqlalchemy import create_engine"
   ]
  },
  {
   "cell_type": "markdown",
   "metadata": {},
   "source": [
    "## Extraction"
   ]
  },
  {
   "cell_type": "markdown",
   "metadata": {},
   "source": [
    "### Climate Data"
   ]
  },
  {
   "cell_type": "code",
   "execution_count": 2,
   "metadata": {},
   "outputs": [
    {
     "name": "stdout",
     "output_type": "stream",
     "text": [
      "<class 'pandas.core.frame.DataFrame'>\n",
      "RangeIndex: 182 entries, 0 to 181\n",
      "Data columns (total 4 columns):\n",
      "Date     182 non-null object\n",
      "Temp     182 non-null float64\n",
      "Hum      182 non-null float64\n",
      "FLike    182 non-null float64\n",
      "dtypes: float64(3), object(1)\n",
      "memory usage: 5.8+ KB\n"
     ]
    },
    {
     "data": {
      "text/html": [
       "<div>\n",
       "<style scoped>\n",
       "    .dataframe tbody tr th:only-of-type {\n",
       "        vertical-align: middle;\n",
       "    }\n",
       "\n",
       "    .dataframe tbody tr th {\n",
       "        vertical-align: top;\n",
       "    }\n",
       "\n",
       "    .dataframe thead th {\n",
       "        text-align: right;\n",
       "    }\n",
       "</style>\n",
       "<table border=\"1\" class=\"dataframe\">\n",
       "  <thead>\n",
       "    <tr style=\"text-align: right;\">\n",
       "      <th></th>\n",
       "      <th>Date</th>\n",
       "      <th>Temp</th>\n",
       "      <th>Hum</th>\n",
       "      <th>FLike</th>\n",
       "    </tr>\n",
       "  </thead>\n",
       "  <tbody>\n",
       "    <tr>\n",
       "      <td>0</td>\n",
       "      <td>01/11/2019</td>\n",
       "      <td>17.0</td>\n",
       "      <td>68.0</td>\n",
       "      <td>16.0</td>\n",
       "    </tr>\n",
       "    <tr>\n",
       "      <td>1</td>\n",
       "      <td>02/11/2019</td>\n",
       "      <td>20.0</td>\n",
       "      <td>68.0</td>\n",
       "      <td>18.0</td>\n",
       "    </tr>\n",
       "    <tr>\n",
       "      <td>2</td>\n",
       "      <td>03/11/2019</td>\n",
       "      <td>18.0</td>\n",
       "      <td>66.0</td>\n",
       "      <td>17.0</td>\n",
       "    </tr>\n",
       "    <tr>\n",
       "      <td>3</td>\n",
       "      <td>04/11/2019</td>\n",
       "      <td>20.0</td>\n",
       "      <td>67.0</td>\n",
       "      <td>19.0</td>\n",
       "    </tr>\n",
       "    <tr>\n",
       "      <td>4</td>\n",
       "      <td>05/11/2019</td>\n",
       "      <td>20.0</td>\n",
       "      <td>68.0</td>\n",
       "      <td>19.0</td>\n",
       "    </tr>\n",
       "  </tbody>\n",
       "</table>\n",
       "</div>"
      ],
      "text/plain": [
       "         Date  Temp   Hum  FLike\n",
       "0  01/11/2019  17.0  68.0   16.0\n",
       "1  02/11/2019  20.0  68.0   18.0\n",
       "2  03/11/2019  18.0  66.0   17.0\n",
       "3  04/11/2019  20.0  67.0   19.0\n",
       "4  05/11/2019  20.0  68.0   19.0"
      ]
     },
     "execution_count": 2,
     "metadata": {},
     "output_type": "execute_result"
    }
   ],
   "source": [
    "# Api Key\n",
    "key = '22bbc46976cc45e8b1104224200104'\n",
    "\n",
    "# List of dates corresponding to the month and the year (The API only manages to get a month at a time)\n",
    "dates = ['2019-11-01', '2019-12-01', '2020-01-01', '2020-02-01', '2020-03-01', '2020-04-01']\n",
    "end_date = ['2019-11-30', '2019-12-31', '2020-01-31', '2020-02-29', '2020-03-31', '2020-04-30']\n",
    "# Create an empty list to store all the data\n",
    "date_list = []\n",
    "avgtempC_list = []\n",
    "humidity_list = []\n",
    "FeelsLikeC_list = []\n",
    "city_name = []\n",
    "\n",
    "# Latitude and Longitude of the sites\n",
    "latitud = ['19.422614', '25.678396', '21.175957', '20.678767']\n",
    "longitud = ['-99.136465', '-100.320128', '-86.835151', '-103.346187']\n",
    "city = ['Mexico City', 'Monterrey', 'Cancun', 'Guadalajara']\n",
    "\n",
    "site_flag = 0\n",
    "\n",
    "for \n",
    "\n",
    "end_date_flag = 0\n",
    "# For each start and end date, get the URL. Use a flag to iterate through the end_date list.\n",
    "for date in dates:\n",
    "    # Built the URL.\n",
    "    url='http://api.worldweatheronline.com/premium/v1/past-weather.ashx?key={key}&q={latitud},%{longitud}&format=json&date={date}&enddate={end_date}&includelocation=yes&tp=24'.format(\n",
    "    key=key,latitud=latitud,longitud=longitud,date=date,end_date=end_date[end_date_flag])\n",
    "    end_date_flag+=1\n",
    "    # Get response from the URL.\n",
    "    response = requests.get(url).json()\n",
    "    # Create a flag to iterate thourgh the hole month.\n",
    "    month_day = 0\n",
    "    # For each element in the JSON (day of the mont), extract the Date, Avg Temperature C,\n",
    "    # Humidity %, Feels Like C.\n",
    "    for i in response['data']['weather']:\n",
    "        # Append the element of the dictionary that corresponds to each list. \n",
    "        date_list.append(response['data']['weather'][month_day]['date'])\n",
    "        avgtempC_list.append(float(response['data']['weather'][month_day]['avgtempC']))\n",
    "        humidity_list.append(float(response['data']['weather'][month_day]['hourly'][0]['humidity']))\n",
    "        FeelsLikeC_list.append(float(response['data']['weather'][month_day]['hourly'][0]['FeelsLikeC']))\n",
    "        city_name.append(city[site_flag])\n",
    "        month_day+=1\n",
    "\n",
    "# Create a dictionary to store the lists\n",
    "dict_climate = {'Date':date_list, \n",
    "                'Temp':avgtempC_list,\n",
    "                'Hum':humidity_list,\n",
    "                'FLike':FeelsLikeC_list,\n",
    "               }\n",
    "\n",
    "# Create the DataFrame based on the previous dictionary\n",
    "df_climate = pd.DataFrame(dict_climate)\n",
    "df_climate[\"Date\"] = pd.to_datetime(df_climate[\"Date\"])\n",
    "df_climate['Date'] = df_climate['Date'].dt.strftime('%d/%m/%Y')\n",
    "df_climate.info()\n",
    "\n",
    "df_climate.head()"
   ]
  },
  {
   "cell_type": "markdown",
   "metadata": {},
   "source": [
    "### Site Information"
   ]
  },
  {
   "cell_type": "code",
   "execution_count": null,
   "metadata": {},
   "outputs": [],
   "source": []
  },
  {
   "cell_type": "markdown",
   "metadata": {},
   "source": [
    "### Energy Consumption"
   ]
  },
  {
   "cell_type": "code",
   "execution_count": null,
   "metadata": {},
   "outputs": [],
   "source": []
  },
  {
   "cell_type": "code",
   "execution_count": null,
   "metadata": {},
   "outputs": [],
   "source": []
  },
  {
   "cell_type": "markdown",
   "metadata": {},
   "source": [
    "### Sales Data"
   ]
  },
  {
   "cell_type": "code",
   "execution_count": null,
   "metadata": {},
   "outputs": [],
   "source": []
  },
  {
   "cell_type": "code",
   "execution_count": null,
   "metadata": {},
   "outputs": [],
   "source": []
  },
  {
   "cell_type": "markdown",
   "metadata": {},
   "source": [
    "### Energy Tariff"
   ]
  },
  {
   "cell_type": "code",
   "execution_count": null,
   "metadata": {},
   "outputs": [],
   "source": []
  },
  {
   "cell_type": "code",
   "execution_count": null,
   "metadata": {},
   "outputs": [],
   "source": []
  },
  {
   "cell_type": "markdown",
   "metadata": {},
   "source": [
    "## Transformation"
   ]
  },
  {
   "cell_type": "code",
   "execution_count": null,
   "metadata": {},
   "outputs": [],
   "source": []
  },
  {
   "cell_type": "code",
   "execution_count": null,
   "metadata": {},
   "outputs": [],
   "source": []
  },
  {
   "cell_type": "code",
   "execution_count": null,
   "metadata": {},
   "outputs": [],
   "source": []
  },
  {
   "cell_type": "code",
   "execution_count": null,
   "metadata": {},
   "outputs": [],
   "source": []
  },
  {
   "cell_type": "markdown",
   "metadata": {},
   "source": [
    "## Load"
   ]
  },
  {
   "cell_type": "code",
   "execution_count": null,
   "metadata": {},
   "outputs": [],
   "source": []
  },
  {
   "cell_type": "code",
   "execution_count": null,
   "metadata": {},
   "outputs": [],
   "source": []
  },
  {
   "cell_type": "code",
   "execution_count": null,
   "metadata": {},
   "outputs": [],
   "source": []
  },
  {
   "cell_type": "code",
   "execution_count": null,
   "metadata": {},
   "outputs": [],
   "source": []
  }
 ],
 "metadata": {
  "kernelspec": {
   "display_name": "Python 3",
   "language": "python",
   "name": "python3"
  },
  "language_info": {
   "codemirror_mode": {
    "name": "ipython",
    "version": 3
   },
   "file_extension": ".py",
   "mimetype": "text/x-python",
   "name": "python",
   "nbconvert_exporter": "python",
   "pygments_lexer": "ipython3",
   "version": "3.7.4"
  },
  "toc": {
   "base_numbering": 1,
   "nav_menu": {},
   "number_sections": true,
   "sideBar": true,
   "skip_h1_title": false,
   "title_cell": "Table of Contents",
   "title_sidebar": "Contents",
   "toc_cell": false,
   "toc_position": {},
   "toc_section_display": true,
   "toc_window_display": false
  }
 },
 "nbformat": 4,
 "nbformat_minor": 2
}
